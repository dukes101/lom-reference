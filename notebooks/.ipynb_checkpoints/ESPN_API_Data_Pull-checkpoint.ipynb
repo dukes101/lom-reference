{
 "cells": [
  {
   "cell_type": "markdown",
   "metadata": {
    "id": "grZ5yZNjWYPC"
   },
   "source": [
    "# Matchup Data Pull\n",
    "\n",
    "Objectives:\n",
    "- Scrape the ESPN Fantasy API to pull historic matchup data\n",
    "- Clean & Aggregate data"
   ]
  },
  {
   "cell_type": "markdown",
   "metadata": {
    "id": "dNbKkOcme3Bw"
   },
   "source": [
    "## Step 1: Data Scrape"
   ]
  },
  {
   "cell_type": "code",
   "execution_count": 26,
   "metadata": {
    "colab": {
     "base_uri": "https://localhost:8080/"
    },
    "id": "-NUq8dUh7yLJ",
    "outputId": "4d69825a-6b20-4039-9175-6756daf3a272"
   },
   "outputs": [],
   "source": [
    "## Dependencies ##\n",
    "import pandas as pd\n",
    "import numpy as np\n",
    "import requests\n",
    "import os\n",
    "from dotenv import load_dotenv, find_dotenv"
   ]
  },
  {
   "cell_type": "code",
   "execution_count": 27,
   "metadata": {},
   "outputs": [],
   "source": [
    "# Load local .env\n",
    "load_dotenv(find_dotenv(), override=False)\n",
    "\n",
    "swid = os.getenv(\"SWID\")\n",
    "espn_s2 = os.getenv(\"ESPNS2\")"
   ]
  },
  {
   "cell_type": "code",
   "execution_count": 28,
   "metadata": {
    "id": "yNTH5whIjKrr"
   },
   "outputs": [],
   "source": [
    "## Define Objects ##\n",
    "\n",
    "## Years of League\n",
    "years = [2017, 2018, 2019, 2020, 2021, 2022, 2023, 2024, 2025]\n",
    "\n",
    "## Match ID to Name\n",
    "data = {\n",
    "    'id': [1, 2, 3, 4, 5, 6, 7, 8, 9, 10],\n",
    "    'Name': ['Luca', 'Dylan', 'Cody', 'Matt', 'Nate', 'Hayden', 'Gavin', 'Zachary', 'Alexander', 'Evan']\n",
    "}\n",
    "\n",
    "## Create df of ID and Name\n",
    "dfIdNameMatch = pd.DataFrame(data)\n",
    "\n",
    "## Define columns\n",
    "matchup_column_names = {'matchupPeriodId':'Week', 'away.teamId':'Team1', 'away.totalPoints':'Score1', 'home.teamId':'Team2', 'home.totalPoints':'Score2', 'playoffTierType': 'playoffType'}\n",
    "\n",
    "## Define empty df to append Matchup Data\n",
    "dfAllMatchups = pd.DataFrame(\n",
    "    {\n",
    "        'Week': [],\n",
    "        'Team1': [],\n",
    "        'Score1': [],\n",
    "        'Team2': [],\n",
    "        'Score2': [],\n",
    "        'playoffType': [],\n",
    "        'Type': [],\n",
    "        'Year': []\n",
    "    }\n",
    ")"
   ]
  },
  {
   "cell_type": "code",
   "execution_count": 29,
   "metadata": {
    "id": "aTPto-KHhmUt"
   },
   "outputs": [],
   "source": [
    "## Define Cookies ##\n",
    "cookies = {\n",
    "    \"swid\": swid,\n",
    "    \"espn_s2\": espn_s2\n",
    "}"
   ]
  },
  {
   "cell_type": "code",
   "execution_count": 30,
   "metadata": {
    "id": "Y2zBznBibm64"
   },
   "outputs": [],
   "source": [
    "## Extract Data from ESPN ##\n",
    "\n",
    "## Loop through years\n",
    "for year in years:\n",
    "\n",
    "  ## 2017 requires a different API call\n",
    "  if year == 2017:\n",
    "\n",
    "    ## Define URL specific to league\n",
    "    url = \"https://lm-api-reads.fantasy.espn.com/apis/v3/games/ffl/leagueHistory/\" + str(193193) + \"?seasonId=\" + str(year)\n",
    "    ## Send GET request\n",
    "    matchup_response = requests.get(url, params={\"view\": \"mMatchup\"}, cookies=cookies)\n",
    "    ## Parse JSON response from API\n",
    "    matchup_json = matchup_response.json()\n",
    "    ## Normalize JSON data in table structure\n",
    "    dfMatchup = pd.json_normalize(matchup_json[0]['schedule'])\n",
    "    ## Define column playoffTierType\n",
    "    dfMatchup['playoffTierType'] = 'NONE'\n",
    "\n",
    "  ## Other years\n",
    "  else:\n",
    "\n",
    "    url = f\"https://lm-api-reads.fantasy.espn.com/apis/v3/games/ffl/seasons/{year}/segments/0/leagues/{193193}\"\n",
    "    matchup_response = requests.get(url, params={\"view\": \"mMatchupScore\"}, cookies=cookies) #permissions\n",
    "    matchup_json = matchup_response.json()\n",
    "    dfMatchup = pd.json_normalize(matchup_json['schedule'])\n",
    "\n",
    "  ## Reindex columns\n",
    "  dfMatchup = dfMatchup.reindex(columns=matchup_column_names).rename(columns=matchup_column_names)\n",
    "\n",
    "  ## Create column Type\n",
    "  ## IN FUTURE: Determine Playoffs by playoffTierType ##\n",
    "  if year == 2023:\n",
    "    dfMatchup['Type'] = ['Regular' if week<=11 else 'Playoff' for week in dfMatchup['Week']]\n",
    "\n",
    "  elif year in [2018, 2019]:\n",
    "    dfMatchup['Type'] = ['Regular' if week<=12 else 'Playoff' for week in dfMatchup['Week']]\n",
    "\n",
    "  elif year in [2017, 2020, 2024]:\n",
    "    dfMatchup['Type'] = ['Regular' if week<=13 else 'Playoff' for week in dfMatchup['Week']]\n",
    "\n",
    "  elif year == 2021:\n",
    "    dfMatchup['Type'] = ['Regular' if week<=14 else 'Playoff' for week in dfMatchup['Week']]\n",
    "\n",
    "  else: #2022\n",
    "    dfMatchup['Type'] = ['Regular' if week<=15 else 'Playoff' for week in dfMatchup['Week']]\n",
    "\n",
    "  ## Create column Year\n",
    "  dfMatchup['Year'] = year\n",
    "  dfMatchup['Year'] = dfMatchup['Year'].astype(str)\n",
    "\n",
    "  ## Concatenates data from all years\n",
    "  dfAllMatchups = pd.concat([dfAllMatchups, dfMatchup], ignore_index=True)"
   ]
  },
  {
   "cell_type": "code",
   "execution_count": 31,
   "metadata": {},
   "outputs": [],
   "source": [
    "## Add Playoffs for 2017 data\n",
    "dfAllMatchups.iloc[52, 5] = 'WINNERS_BRACKET'\n",
    "dfAllMatchups.iloc[53, 5] = 'WINNERS_BRACKET'\n",
    "dfAllMatchups.iloc[54, 5] = 'LOSERS_CONSOLATION_LADDER'\n",
    "dfAllMatchups.iloc[55, 5] = 'LOSERS_CONSOLATION_LADDER'\n",
    "dfAllMatchups.iloc[56, 5] = 'WINNERS_BRACKET'\n",
    "dfAllMatchups.iloc[57, 5] = 'WINNERS_CONSOLATION_LADDER'\n",
    "dfAllMatchups.iloc[58, 5] = 'LOSERS_CONSOLATION_LADDER'\n",
    "dfAllMatchups.iloc[59, 5] = 'LOSERS_CONSOLATION_LADDER'"
   ]
  },
  {
   "cell_type": "code",
   "execution_count": 32,
   "metadata": {},
   "outputs": [],
   "source": [
    "## By Week\n",
    "dfAllMatchups = dfAllMatchups[~((dfAllMatchups['Year'] == '2025') & (dfAllMatchups['Week'] != 1.0))]"
   ]
  },
  {
   "cell_type": "code",
   "execution_count": 33,
   "metadata": {
    "id": "zLs8baPdswZh"
   },
   "outputs": [],
   "source": [
    "## Drop NAs\n",
    "dfAllMatchups = dfAllMatchups.dropna(subset=['Team1'])"
   ]
  },
  {
   "cell_type": "code",
   "execution_count": 34,
   "metadata": {
    "id": "ZcIT5uYjyb6d"
   },
   "outputs": [],
   "source": [
    "## Merge Team1 IDs with Names\n",
    "dfAllMatchupsMerge1 = dfAllMatchups.merge(dfIdNameMatch, left_on='Team1', right_on='id', suffixes=('', '_Team1'))\n",
    "\n",
    "## Merge Team2 IDs with Names\n",
    "dfAllMatchupsMerge2 = dfAllMatchupsMerge1.merge(dfIdNameMatch, left_on='Team2', right_on='id', suffixes=('', '_Team2'))\n",
    "\n",
    "## Drop ID columns\n",
    "dfAllMatchupsDrop = dfAllMatchupsMerge2.drop(['id', 'id_Team2', 'Team1', 'Team2'], axis=1)\n",
    "dfAllMatchupsRename = dfAllMatchupsDrop.rename(columns={'Name': 'Team1', 'Name_Team2': 'Team2'})\n",
    "\n",
    "## Reorder columns\n",
    "new_order = ['Week', 'Team1', 'Score1', 'Team2', 'Score2', 'Type', 'playoffType', 'Year']\n",
    "dfAllMatchupsNewOrder = dfAllMatchupsRename[new_order]\n",
    "\n",
    "## Drop consolation playoff matchups\n",
    "dfMatchupsPd = dfAllMatchupsNewOrder[~((dfAllMatchupsNewOrder['Type'] == 'Playoff') & (dfAllMatchupsNewOrder['playoffType'].str.lower().str.contains('consolation')))].reset_index(drop=True)"
   ]
  },
  {
   "cell_type": "markdown",
   "metadata": {},
   "source": [
    "## Step 2: Data Clean & Aggregation"
   ]
  },
  {
   "cell_type": "markdown",
   "metadata": {},
   "source": [
    "### Head to Head Summary"
   ]
  },
  {
   "cell_type": "code",
   "execution_count": 35,
   "metadata": {},
   "outputs": [],
   "source": [
    "## Define Teams\n",
    "league_members = ['Luca', 'Dylan', 'Cody', 'Matt', 'Nate', 'Hayden', 'Gavin', 'Zachary', 'Alexander', 'Evan']"
   ]
  },
  {
   "cell_type": "code",
   "execution_count": 36,
   "metadata": {},
   "outputs": [],
   "source": [
    "## Create column Winner and Loser (or tie)\n",
    "dfMatchupsPd['Winner'] = dfMatchupsPd.apply(lambda row: row['Team1'] \\\n",
    "                                            if row['Score1'] > row['Score2'] \\\n",
    "                                            else (row['Team2'] if row['Score1'] < row['Score2'] else 'Tie'), axis=1)\n",
    "\n",
    "dfMatchupsPd['Loser'] = dfMatchupsPd.apply(lambda row: row['Team2'] \\\n",
    "                                            if row['Score1'] > row['Score2'] \\\n",
    "                                            else (row['Team1'] if row['Score1'] < row['Score2'] else 'Tie'), axis=1)"
   ]
  },
  {
   "cell_type": "code",
   "execution_count": 37,
   "metadata": {},
   "outputs": [],
   "source": [
    "## Function to Swap Teams\n",
    "## Team 1 should be the overall winner of the matchup\n",
    "## Identifies H2H winner and loser\n",
    "def swap_teams(df, member1, member2):\n",
    "\n",
    "    ## Calculate win counts for each member\n",
    "    member1_wins = (df['Winner'] == member1).sum()\n",
    "    member2_wins = (df['Winner'] == member2).sum()\n",
    "\n",
    "    winning_member = member1 if member1_wins >= member2_wins else member2\n",
    "    losing_member = member2 if member1_wins >= member2_wins else member1\n",
    "\n",
    "    ## Iterate through each matchup\n",
    "    for index, row in df.iterrows():\n",
    "\n",
    "      ## Forcing the winning_member to be Team1\n",
    "      if row['Team1'] != winning_member:\n",
    "          ## Swap team and score columns for the current row\n",
    "          df.loc[index, ['Team1', 'Team2']] = row[['Team2', 'Team1']].values\n",
    "          df.loc[index, ['Score1', 'Score2']] = row[['Score2', 'Score1']].values\n",
    "\n",
    "    return df, winning_member, losing_member"
   ]
  },
  {
   "cell_type": "code",
   "execution_count": 38,
   "metadata": {},
   "outputs": [],
   "source": [
    "## Function to calculae H2H Metrics\n",
    "def h2h_metrics(df, winning_member, losing_member):\n",
    "\n",
    "  ## Score margin\n",
    "  avg_score_margin = round((df['Score1'] - df['Score2']).mean(),1) #team 1 margin\n",
    "  avg_score_margin_abs = round((df['Score1'] - df['Score2']).abs().mean(),1) #winning team margin\n",
    "\n",
    "  ## Number of matchups\n",
    "  total_matchups = round(len(df),0)\n",
    "\n",
    "  ## Ties\n",
    "  tie_games = round((df['Winner'] == 'Tie').sum(),0)\n",
    "\n",
    "  ## Teams\n",
    "  team1 = df['Team1'].iloc[0]\n",
    "  team2 = df['Team2'].iloc[0]\n",
    "\n",
    "  ## Points\n",
    "  team1_points = round(df['Score1'].sum(),1)\n",
    "  team2_points = round(df['Score2'].sum(),1)\n",
    "  allteam_points = team1_points + team2_points\n",
    "\n",
    "  ## Wins\n",
    "  team1_wins = round((df['Winner'] == winning_member).sum(),0)\n",
    "  team2_wins = round((df['Winner'] == losing_member).sum(),0)\n",
    "\n",
    "  ## Win pct\n",
    "  team1_win_pct = round((team1_wins / (total_matchups - tie_games)) * 100,1)\n",
    "  team2_win_pct = round((team2_wins / (total_matchups - tie_games)) * 100,1)\n",
    "\n",
    "  ## Playoff games\n",
    "  playoff_games = round((df['playoffType'] != 'NONE').sum(),0)\n",
    "\n",
    "  ## Define df\n",
    "  results_df = pd.DataFrame({\n",
    "      'Team 1': [team1],\n",
    "      'Team 2': [team2],\n",
    "      'Team 1 Points': [team1_points],\n",
    "      'Team 2 Points': [team2_points],\n",
    "      'Total H2H Points': [allteam_points],\n",
    "      'Average Score Margin (Team 1)': [avg_score_margin],\n",
    "      'Average Score Margin (Winning Team)': [avg_score_margin_abs],\n",
    "      'Total Matchups': [total_matchups],\n",
    "      'Team 1 Wins': [team1_wins],\n",
    "      'Team 2 Wins': [team2_wins],\n",
    "      'Team 1 Win %': [team1_win_pct],\n",
    "      'Team 2 Win %': [team2_win_pct],\n",
    "      'Tie Games': [tie_games],\n",
    "      'Playoff Games': [playoff_games]\n",
    "  })\n",
    "\n",
    "  return results_df"
   ]
  },
  {
   "cell_type": "code",
   "execution_count": 39,
   "metadata": {},
   "outputs": [],
   "source": [
    "## Initialize df for H2H Metrics\n",
    "data = {\n",
    "    'Team 1': [],\n",
    "    'Team 2': [],\n",
    "    'Team 1 Points': [],\n",
    "    'Team 2 Points': [],\n",
    "    'Total H2H Points': [],\n",
    "    'Average Score Margin (Team 1)': [],\n",
    "    'Average Score Margin (Winning Team)': [],\n",
    "    'Total Matchups': [],\n",
    "    'Team 1 Wins': [],\n",
    "    'Team 2 Wins': [],\n",
    "    'Team 1 Win %': [],\n",
    "    'Team 2 Win %': [],\n",
    "    'Tie Games': [],\n",
    "    'Playoff Games': []\n",
    "}\n",
    "\n",
    "dfH2HAll = pd.DataFrame(data)"
   ]
  },
  {
   "cell_type": "code",
   "execution_count": 40,
   "metadata": {},
   "outputs": [],
   "source": [
    "## Build loop for all H2H Matchups\n",
    "for member1 in league_members:\n",
    "    for member2 in league_members:\n",
    "\n",
    "      ## Ensure we aren't comparing the same member\n",
    "      if member1 != member2:\n",
    "\n",
    "        ## Filter on current iteration of member matchups\n",
    "        dfH2HRaw = dfMatchupsPd[((dfMatchupsPd['Team1'] == member1) & (dfMatchupsPd['Team2'] == member2)) \\\n",
    "                                | ((dfMatchupsPd['Team1'] == member2) & (dfMatchupsPd['Team2'] == member1))]\n",
    "\n",
    "        ## Swap teams if not aligned in H2H\n",
    "        dfH2HSwap, winning_member, losing_member = swap_teams(dfH2HRaw, member1, member2)\n",
    "\n",
    "        ## Calculate H2H Metrics\n",
    "        dfH2H = h2h_metrics(dfH2HSwap, winning_member, losing_member)\n",
    "\n",
    "      ## Continue to next iteration if they are the same member\n",
    "      else:\n",
    "        continue\n",
    "\n",
    "      ## Append all H2H History\n",
    "      dfH2HAll = pd.concat([dfH2HAll, dfH2H], ignore_index=True)\n",
    "\n",
    "## Removes Duplicates\n",
    "dfH2HAll['key'] = dfH2HAll.apply(lambda row: tuple(sorted([row['Team 1'], row['Team 2']])), axis=1)\n",
    "dfH2HFinal = dfH2HAll.drop_duplicates(subset='key', keep='first').drop('key', axis=1).reset_index(drop=True)"
   ]
  },
  {
   "cell_type": "markdown",
   "metadata": {},
   "source": [
    "### Matchups History"
   ]
  },
  {
   "cell_type": "code",
   "execution_count": 41,
   "metadata": {},
   "outputs": [],
   "source": [
    "## Individual Matchup History\n",
    "\n",
    "## Rename columns\n",
    "dfMatchupsPd['TeamA'] = dfMatchupsPd['Team1']\n",
    "dfMatchupsPd['TeamB'] = dfMatchupsPd['Team2']\n",
    "\n",
    "## Transform dfMatchupsPd from wide to long\n",
    "melted_df = pd.melt(dfMatchupsPd, id_vars=['Week', 'Type', 'Year', 'Score1', 'Score2', 'Winner', 'Loser', 'TeamA', 'TeamB'], #columns left unchanged\n",
    "                    value_vars=['Team1', 'Team2'], #columns to melt\n",
    "                    var_name='team_type', value_name='Team') #new column names\n",
    "\n",
    "## Create columns\n",
    "melted_df['Outcome'] = np.where(melted_df['Team'] == melted_df['Winner'], 'Win', np.where(melted_df['Winner'] == 'Tie', 'Tie', 'Loss'))\n",
    "melted_df['Opponent'] = np.where(melted_df['Team'] == melted_df['TeamA'], melted_df['TeamB'], melted_df['TeamA'])\n",
    "melted_df['Score'] = np.where(melted_df['team_type'] == 'Team1', melted_df['Score1'], melted_df['Score2'])\n",
    "melted_df['Opponent_score'] = np.where(melted_df['team_type'] == 'Team1', melted_df['Score2'], melted_df['Score1'])\n",
    "melted_df['Score_margin'] = melted_df['Score'] - melted_df['Opponent_score']\n",
    "melted_df['Top_scoring_week'] = melted_df.groupby(['Year', 'Week'])['Score'].transform(lambda x: (x == x.max()).astype(int))\n",
    "melted_df['Lowest_scoring_week'] = melted_df.groupby(['Year', 'Week'])['Score'].transform(lambda x: (x == x.min()).astype(int))\n",
    "\n",
    "## Drop columns\n",
    "melted_df = melted_df.drop(['Score1', 'Score2', 'Winner', 'team_type', 'TeamA', 'TeamB'], axis=1)\n",
    "\n",
    "## Select desired columns\n",
    "dfTeamHistory = melted_df[['Year', 'Week', 'Team', 'Score', 'Opponent', 'Opponent_score', 'Score_margin', 'Outcome', 'Type', 'Top_scoring_week', 'Lowest_scoring_week']]\n",
    "\n",
    "## Sort df\n",
    "dfTeamHistory = dfTeamHistory.sort_values(by=['Year', 'Week', 'Score'], ascending=[True, True, False]).reset_index(drop=True)"
   ]
  },
  {
   "cell_type": "markdown",
   "metadata": {},
   "source": [
    "### Standings"
   ]
  },
  {
   "cell_type": "markdown",
   "metadata": {},
   "source": [
    "#### Regular"
   ]
  },
  {
   "cell_type": "code",
   "execution_count": 42,
   "metadata": {},
   "outputs": [],
   "source": [
    "## Regular Season Standings ##\n",
    "data = {\n",
    "    'Year': [],\n",
    "    '1st': [],\n",
    "    '2nd': [],\n",
    "    '3rd': [],\n",
    "    '4th': [],\n",
    "    '5th': [],\n",
    "    '6th': [],\n",
    "    '7th': [],\n",
    "    '8th': [],\n",
    "    '9th': [],\n",
    "    '10th': []\n",
    "}\n",
    "\n",
    "dfRegSeasonStandings = pd.DataFrame(data)\n",
    "\n",
    "dfTeamHistory['Year'] = dfTeamHistory['Year'].astype(int)\n",
    "\n",
    "for year in [2017, 2018, 2019, 2020, 2021, 2022, 2023, 2024]:\n",
    "\n",
    "  ## Filter team history\n",
    "  dfTeamHistoryYear = dfTeamHistory[dfTeamHistory['Year'] == year]\n",
    "\n",
    "  dfRecordYear = dfTeamHistoryYear[dfTeamHistoryYear['Type'] != 'Playoff'].groupby('Team')['Outcome'].value_counts().unstack('Outcome')\n",
    "  dfPointsYear = dfTeamHistoryYear[dfTeamHistoryYear['Type'] != 'Playoff'].groupby('Team')['Score'].sum().reset_index(name='Points')\n",
    "\n",
    "  if 'Tie' not in dfRecordYear.columns:\n",
    "    dfRecordYear['Tie'] = 0\n",
    "\n",
    "  dfRecordYear = dfRecordYear.rename(columns={'Win': 'Wins', 'Loss': 'Losses', 'Tie': 'Ties'}).fillna(0).reset_index()\n",
    "  dfMergedYear = pd.merge(dfPointsYear, dfRecordYear, on='Team').sort_values(by=['Wins', 'Ties', 'Points'], ascending=[False, False, False]).reset_index(drop=True)\n",
    "\n",
    "  dfMergedYear['Standings'] = range(1, len(dfMergedYear) + 1)\n",
    "  dfMergedYear['Standings'] = dfMergedYear['Standings'].astype(str)\n",
    "\n",
    "  dfTranspose = dfMergedYear.pivot_table(columns='Standings', values='Team', aggfunc='first').reset_index(drop=True)\n",
    "  dfTranspose.columns.name = None\n",
    "\n",
    "  if year in [2017, 2018]:\n",
    "    dfTranspose['9th'] = None\n",
    "    dfTranspose['10th'] = None\n",
    "\n",
    "  dfTranspose = dfTranspose.rename(columns={'1': '1st', '2': '2nd', '3': '3rd', '4': '4th', '5': '5th'\n",
    "                                          , '6': '6th', '7': '7th', '8': '8th', '9': '9th', '10': '10th'})\n",
    "  dfTranspose['Year'] = year\n",
    "\n",
    "  dfRegSeasonStandings = pd.concat([dfRegSeasonStandings, dfTranspose], ignore_index=True)"
   ]
  },
  {
   "cell_type": "markdown",
   "metadata": {},
   "source": [
    "#### Final"
   ]
  },
  {
   "cell_type": "code",
   "execution_count": 43,
   "metadata": {},
   "outputs": [],
   "source": [
    "## Final Standings ##\n",
    "### HARD-CODEDED ###\n",
    "final_standings = {\n",
    "    'Year':[2017, 2018, 2019, 2020, 2021, 2022, 2023, 2024],\n",
    "    '1st': ['Dylan', 'Luca', 'Gavin', 'Matt', 'Gavin', 'Luca', 'Alexander', 'Evan'],\n",
    "    '2nd': ['Luca', 'Matt', 'Alexander', 'Luca', 'Evan', 'Matt', 'Luca', 'Zachary'],\n",
    "    '3rd': ['Hayden', 'Nate', 'Dylan', 'Hayden', 'Cody', 'Gavin', 'Matt', 'Matt'],\n",
    "    '4th': ['Gavin', 'Gavin', 'Nate', 'Dylan', 'Zachary', 'Cody', 'Hayden', 'Gavin'],\n",
    "    '5th': ['Matt', 'Zachary', 'Hayden', 'Cody', 'Nate', 'Hayden', 'Cody', 'Dylan'],\n",
    "    '6th': ['Zachary', 'Hayden', 'Matt', 'Evan', 'Hayden', 'Dylan', 'Gavin', 'Cody'],\n",
    "    '7th': ['Nate', 'Dylan', 'Zachary', 'Alexander', 'Luca', 'Zachary', 'Nate', 'Nate'],\n",
    "    '8th': ['Cody', 'Cody', 'Cody', 'Gavin', 'Matt', 'Alexander', 'Evan', 'Alexander'],\n",
    "    '9th': [None, None, 'Evan', 'Nate', 'Alexander', 'Evan', 'Zachary', 'Luca'],\n",
    "    '10th':[None, None, 'Luca', 'Zachary', 'Dylan', 'Nate', 'Dylan', 'Hayden']\n",
    "}\n",
    "\n",
    "dfFinalStandings = pd.DataFrame(final_standings)\n",
    "dfFinalStandings = dfFinalStandings.sort_values(by='Year', ascending=True).reset_index(drop=True)"
   ]
  },
  {
   "cell_type": "markdown",
   "metadata": {},
   "source": [
    "## Step 3: Write Out"
   ]
  },
  {
   "cell_type": "code",
   "execution_count": 26,
   "metadata": {},
   "outputs": [],
   "source": [
    "## Change directory\n",
    "os.chdir(r'C:\\Users\\hurst\\OneDrive\\Desktop\\league-of-morons-reference\\Dashboards\\TeamPerformance')"
   ]
  },
  {
   "cell_type": "code",
   "execution_count": 27,
   "metadata": {},
   "outputs": [],
   "source": [
    "## H2H Summary ##\n",
    "dfH2HFinal.to_csv('headtoheadsummary.csv', index=False)\n",
    "\n",
    "## Matchups ##\n",
    "dfTeamHistory.to_csv('matchups_clean.csv', index=False)\n",
    "\n",
    "## Regular Season Standings ##\n",
    "dfRegSeasonStandings.to_csv('standings_regular.csv', index=False)\n",
    "\n",
    "## Final Season Standings ##\n",
    "dfFinalStandings.to_csv('standings_final.csv', index=False)"
   ]
  }
 ],
 "metadata": {
  "colab": {
   "provenance": [],
   "toc_visible": true
  },
  "kernelspec": {
   "display_name": "Python 3 (ipykernel)",
   "language": "python",
   "name": "python3"
  },
  "language_info": {
   "codemirror_mode": {
    "name": "ipython",
    "version": 3
   },
   "file_extension": ".py",
   "mimetype": "text/x-python",
   "name": "python",
   "nbconvert_exporter": "python",
   "pygments_lexer": "ipython3",
   "version": "3.9.13"
  }
 },
 "nbformat": 4,
 "nbformat_minor": 4
}
