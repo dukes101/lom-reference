{
 "cells": [
  {
   "cell_type": "markdown",
   "metadata": {
    "id": "VNl_zvVKaYot"
   },
   "source": [
    "# Team Performance Analysis\n",
    "\n",
    "- In this notebook, I calculate team performance metrics and summarize it using a ploty dash dashboard\n",
    "- League Stats, All Time Cards, Year by Year Trends, Highlights, Lowlights and Opponents are all data sources for the dashboard"
   ]
  },
  {
   "cell_type": "code",
   "execution_count": 85,
   "metadata": {
    "colab": {
     "base_uri": "https://localhost:8080/"
    },
    "id": "uaLigzw_cnY8",
    "outputId": "9153d14b-add4-49c9-a88c-fdb115135819"
   },
   "outputs": [],
   "source": [
    "## Dependencies ##\n",
    "import pandas as pd\n",
    "import numpy as np\n",
    "import os\n",
    "\n",
    "## Change directory\n",
    "os.chdir(r'C:\\Users\\hurst\\OneDrive\\Desktop\\league-of-morons-reference\\DataPull')"
   ]
  },
  {
   "cell_type": "markdown",
   "metadata": {
    "id": "V14JfWohZjM_"
   },
   "source": [
    "## Step 1: League Stats\n",
    "\n",
    "For league stats, I aggregate statistcs and rank how each team has performed"
   ]
  },
  {
   "cell_type": "code",
   "execution_count": 86,
   "metadata": {},
   "outputs": [],
   "source": [
    "## Read in clean matchups\n",
    "dfTeamHistory = pd.read_csv('matchups_clean.csv')"
   ]
  },
  {
   "cell_type": "code",
   "execution_count": 87,
   "metadata": {
    "id": "jNbS9dQ4aAZM"
   },
   "outputs": [],
   "source": [
    "### Total Points (excluding playoffs) ###\n",
    "dfPointsAllTime = dfTeamHistory[dfTeamHistory['Type'] != 'Playoff'].groupby('Team')['Score'].sum().sort_values(ascending=False).reset_index(name='Points')\n",
    "\n",
    "### PPG (excluding playoffs) ###\n",
    "dfPPGAllTime = dfTeamHistory[dfTeamHistory['Type'] != 'Playoff'].groupby('Team')['Score'].mean().sort_values(ascending=False).reset_index(name='PPG')\n",
    "\n",
    "### Total Wins (excluding playoffs) ###\n",
    "dfWinsAllTime = dfTeamHistory[(dfTeamHistory['Type'] != 'Playoff') & (dfTeamHistory['Outcome'] == 'Win')].groupby('Team')['Outcome'].count().sort_values(ascending=False).reset_index(name='Wins')\n",
    "\n",
    "### Win Percentage (excluding playoffs) ###\n",
    "dfWinPctAllTime = dfTeamHistory[dfTeamHistory['Type'] != 'Playoff'].groupby('Team')['Outcome'].apply(lambda x: (x == 'Win').mean() * 100).sort_values(ascending=False).reset_index(name='Win %')\n",
    "\n",
    "### Total Playoff Games ###\n",
    "dfPlayoffGamesAllTime = dfTeamHistory[dfTeamHistory['Type'] == 'Playoff'].groupby('Team')['Type'].count().sort_values(ascending=False).reset_index(name='Playoff Games')\n",
    "\n",
    "### Total Playoff Appearances ###\n",
    "dfPlayoffAppAllTime = dfTeamHistory[dfTeamHistory['Type'] == 'Playoff'][['Year', 'Team', 'Type']].drop_duplicates().groupby('Team')['Type'].count().sort_values(ascending=False).reset_index(name='Playoff Appearances')\n",
    "\n",
    "### Total Playoff Wins ###\n",
    "dfPlayoffWinsAllTime = dfTeamHistory[dfTeamHistory['Type'] == 'Playoff'].groupby('Team')['Outcome'].apply(lambda x: (x == 'Win').sum()).sort_values(ascending=False).reset_index(name='Playoff Wins')\n",
    "\n",
    "### Playoff Win Percentage ###\n",
    "dfPlayoffWinPct = dfTeamHistory[dfTeamHistory['Type'] == 'Playoff'].groupby('Team')['Outcome'].apply(lambda x: (x == 'Win').mean() * 100).sort_values(ascending=False).reset_index(name='Playoff Win %')\n",
    "\n",
    "### Top Scoring Weeks ###\n",
    "dfTopScoringWeeksAllTime = dfTeamHistory[dfTeamHistory['Top_scoring_week'] == 1].groupby('Team')['Top_scoring_week'].count().sort_values(ascending=False).reset_index(name='Top Scoring Weeks')\n",
    "\n",
    "### Low Scoring Weeks ###\n",
    "dfLowScoringWeeksAllTime = dfTeamHistory[dfTeamHistory['Lowest_scoring_week'] == 1].groupby('Team')['Lowest_scoring_week'].count().sort_values(ascending=False).reset_index(name='Low Scoring Weeks')\n",
    "\n",
    "### Average Score Margin (excluding playoffs) ###\n",
    "dfScoreMarginAllTime = dfTeamHistory[dfTeamHistory['Type'] != 'Playoff'].groupby('Team')['Score_margin'].mean().sort_values(ascending=False).reset_index(name='Avg Score Margin')"
   ]
  },
  {
   "cell_type": "code",
   "execution_count": 88,
   "metadata": {
    "id": "okhky5nKaD7X"
   },
   "outputs": [],
   "source": [
    "### Build League Stats df ###\n",
    "dfPlayerPerformance = pd.merge(dfPointsAllTime, dfPPGAllTime, on='Team') \\\n",
    "                        .merge(dfWinsAllTime, on='Team') \\\n",
    "                        .merge(dfWinPctAllTime, on='Team')\\\n",
    "                        .merge(dfPlayoffGamesAllTime, on='Team') \\\n",
    "                        .merge(dfPlayoffAppAllTime, on='Team') \\\n",
    "                        .merge(dfPlayoffWinsAllTime, on='Team') \\\n",
    "                        .merge(dfPlayoffWinPct, on='Team') \\\n",
    "                        .merge(dfTopScoringWeeksAllTime, on='Team') \\\n",
    "                        .merge(dfLowScoringWeeksAllTime, on='Team') \\\n",
    "                        .merge(dfScoreMarginAllTime, on='Team')\n",
    "\n",
    "columns_to_rank = [\n",
    "    'Points',\n",
    "    'PPG',\n",
    "    'Wins',\n",
    "    'Win %',\n",
    "    'Playoff Games',\n",
    "    'Playoff Appearances',\n",
    "    'Playoff Wins',\n",
    "    'Playoff Win %',\n",
    "    'Top Scoring Weeks',\n",
    "    'Low Scoring Weeks',\n",
    "    'Avg Score Margin'\n",
    "]\n",
    "\n",
    "for column in columns_to_rank:\n",
    "    rank_column = f'{column} Rank'\n",
    "    ascending = False if column != 'Low Scoring Weeks' else True\n",
    "    dfPlayerPerformance[rank_column] = dfPlayerPerformance[column].rank(method='min', ascending=ascending).astype(int)\n",
    "\n",
    "## Overall Player Rank\n",
    "dfPlayerPerformance['Average Rank'] = dfPlayerPerformance.filter(like='Rank').mean(axis=1)\n",
    "\n",
    "dfPlayerPerformance = dfPlayerPerformance.sort_values(by='Average Rank', ascending=True).reset_index(drop=True)\n",
    "\n",
    "## All Performing Metrics\n",
    "df = dfPlayerPerformance.iloc[:, :-1]\n",
    "\n",
    "all_performing_metrics = []\n",
    "\n",
    "for team in df['Team'].unique():\n",
    "  team_df = df[df['Team'] == team]\n",
    "  metric_ranks = team_df.filter(like='Rank').T\n",
    "  metric_ranks.columns = ['Rank']\n",
    "  all_metric_ranks = metric_ranks\n",
    "  all_metric_ranks['Metric'] = metric_ranks.index.str.replace(' Rank', '')\n",
    "  all_metric_ranks['Team'] = team\n",
    "  all_metric_ranks['League Rank'] = all_metric_ranks['Rank']\n",
    "  all_metric_ranks['Value'] = team_df[all_metric_ranks.index.str.replace(' Rank', '')].values[0].astype(int)\n",
    "  all_performing_metrics.append(metric_ranks[['Team', 'Metric', 'Value', 'League Rank']])\n",
    "\n",
    "all_metrics_df = pd.concat(all_performing_metrics, ignore_index=True)\n",
    "\n",
    "all_metrics_df['League Rank'] = all_metrics_df['League Rank'].apply(lambda x: f\"{int(x)}{'th' if 10 <= int(x) <= 20 else {1: 'st', 2: 'nd', 3: 'rd'}.get(int(x) % 10, 'th')}\")\n",
    "\n",
    "top_dupes = all_metrics_df.duplicated(subset=['Metric', 'League Rank'], keep=False)\n",
    "all_metrics_df.loc[top_dupes, 'League Rank'] = all_metrics_df.loc[top_dupes, 'League Rank'].apply(lambda x: x + ' (Tied)')\n",
    "all_metrics_df['Value'] = all_metrics_df['Value'].mask(all_metrics_df['Metric'] == 'Win %', all_metrics_df['Value'].astype(str) + '%')\n",
    "all_metrics_df['Value'] = all_metrics_df['Value'].mask(all_metrics_df['Metric'] == 'Playoff Win %', all_metrics_df['Value'].astype(str) + '%')\n",
    "\n",
    "dfLeagueStats = all_metrics_df"
   ]
  },
  {
   "cell_type": "markdown",
   "metadata": {
    "id": "A5ojLLzHahgE"
   },
   "source": [
    "## Step 2: All Time Cards\n",
    "\n",
    "For all time cards, I determine how well a team has done all time"
   ]
  },
  {
   "cell_type": "code",
   "execution_count": 89,
   "metadata": {
    "id": "-CgFpauLckvg"
   },
   "outputs": [],
   "source": [
    "## Pulling in standings_final.csv as dfFinalStandings\n",
    "dfFinalStandings = pd.read_csv('standings_final.csv')"
   ]
  },
  {
   "cell_type": "code",
   "execution_count": 90,
   "metadata": {
    "id": "VKhQpB5qagPd"
   },
   "outputs": [],
   "source": [
    "### Seasons Played ###\n",
    "dfSeasonsPlayed = dfTeamHistory.groupby('Team')['Year'].min().reset_index(name='Year Joined')\n",
    "dfSeasonsPlayed['Seasons Played'] = 2025 - dfSeasonsPlayed['Year Joined']\n",
    "dfSeasonsPlayed = dfSeasonsPlayed.drop('Year Joined', axis=1)\n",
    "\n",
    "### Record ###\n",
    "record_df = dfTeamHistory[dfTeamHistory['Type'] != 'Playoff'].groupby('Team')['Outcome'].value_counts().unstack('Outcome')\n",
    "record_df = record_df.rename(columns={'Win': 'Wins', 'Loss': 'Losses', 'Tie': 'Ties'}).fillna(0)\n",
    "record_df['All Time Record'] = record_df['Wins'].astype(int).astype(str) + '-' + record_df['Losses'].astype(int).astype(str) + '-' + record_df['Ties'].astype(int).astype(str)\n",
    "allTimeRecords = record_df[['All Time Record']].reset_index()\n",
    "\n",
    "### Playoff Record ###\n",
    "playoff_record_df = dfTeamHistory[dfTeamHistory['Type'] == 'Playoff'].groupby('Team')['Outcome'].value_counts().unstack('Outcome')\n",
    "playoff_record_df = playoff_record_df.rename(columns={'Win': 'Wins', 'Loss': 'Losses'}).fillna(0)\n",
    "playoff_record_df['Playoff Record'] = playoff_record_df['Wins'].astype(int).astype(str) + '-' + playoff_record_df['Losses'].astype(int).astype(str)\n",
    "playoffRecords = playoff_record_df[['Playoff Record']].reset_index()"
   ]
  },
  {
   "cell_type": "code",
   "execution_count": 91,
   "metadata": {
    "id": "_TgEVQs_c8TB"
   },
   "outputs": [],
   "source": [
    "## Define Teams\n",
    "league_members = ['Luca', 'Dylan', 'Cody', 'Matt', 'Nate', 'Hayden', 'Gavin', 'Zachary', 'Alexander', 'Evan']"
   ]
  },
  {
   "cell_type": "code",
   "execution_count": 92,
   "metadata": {
    "id": "XgNCGF8fcpPB"
   },
   "outputs": [],
   "source": [
    "### Championships | Top 3 Finishes | Top 5 Finishes ###\n",
    "melted_results = pd.melt(dfFinalStandings, id_vars=['Year'], value_vars=['1st', '2nd', '3rd', '4th', '5th'],\n",
    "                    var_name='Finish', value_name='Team')\n",
    "\n",
    "# Count championships and top 3 finishes\n",
    "championships = melted_results[melted_results['Finish'] == '1st']['Team'].value_counts().reset_index()\n",
    "championships.columns = ['Team', 'Championships']\n",
    "top_3_finishes = melted_results[melted_results['Finish'].isin(('1st', '2nd', '3rd'))]['Team'].value_counts().reset_index()\n",
    "top_3_finishes.columns = ['Team', 'Top 3 Finishes']\n",
    "top_5_finishes = melted_results['Team'].value_counts().reset_index()\n",
    "top_5_finishes.columns = ['Team', 'Top 5 Finishes']\n",
    "\n",
    "# Create output DataFrame\n",
    "finishSummary = pd.DataFrame({\n",
    "    'Team': league_members,\n",
    "    'Championships': [championships[championships['Team'] == team]['Championships'].values[0] if team in championships['Team'].values else 0 for team in league_members],\n",
    "    'Top 3 Finishes': [top_3_finishes[top_3_finishes['Team'] == team]['Top 3 Finishes'].values[0] if team in top_3_finishes['Team'].values else 0 for team in league_members],\n",
    "    'Top 5 Finishes': [top_5_finishes[top_5_finishes['Team'] == team]['Top 5 Finishes'].values[0] if team in top_5_finishes['Team'].values else 0 for team in league_members]\n",
    "})"
   ]
  },
  {
   "cell_type": "code",
   "execution_count": 93,
   "metadata": {
    "id": "1asuBZ82dA6c"
   },
   "outputs": [],
   "source": [
    "## Pulling in standings_regular.csv as dfRegSeasonStandings\n",
    "dfRegSeasonStandings = pd.read_csv('standings_regular.csv')"
   ]
  },
  {
   "cell_type": "code",
   "execution_count": 94,
   "metadata": {
    "id": "nl8iVKPJdHo2"
   },
   "outputs": [],
   "source": [
    "### Regular Season Champions ###\n",
    "meltReg = pd.melt(dfRegSeasonStandings, id_vars=['Year'], value_vars=['1st'],\n",
    "                    var_name='Finish', value_name='Team')\n",
    "\n",
    "regSeasonChamp = meltReg[meltReg['Finish'] == '1st']['Team'].value_counts().reset_index()\n",
    "regSeasonChamp.columns = ['Team', 'Reg Champ']\n",
    "\n",
    "dfRegSeason = pd.DataFrame({\n",
    "    'Team': league_members,\n",
    "    'Reg Champ': [regSeasonChamp[regSeasonChamp['Team'] == team]['Reg Champ'].values[0] if team in regSeasonChamp['Team'].values else 0 for team in league_members],\n",
    "})"
   ]
  },
  {
   "cell_type": "code",
   "execution_count": 95,
   "metadata": {
    "id": "WglVDpaRdO8M"
   },
   "outputs": [],
   "source": [
    "### Last Place Finishes ###\n",
    "\n",
    "# 8 teams\n",
    "meltLast = pd.melt(dfFinalStandings[dfFinalStandings['Year'].isin((2017, 2018))], id_vars=['Year'], value_vars=['8th'],\n",
    "                   var_name='Finish', value_name='Team')\n",
    "\n",
    "lastPlace = meltLast[meltLast['Finish'] == '8th']['Team'].value_counts().reset_index()\n",
    "lastPlace.columns = ['Team', 'Last Place']\n",
    "\n",
    "dfLast8 = pd.DataFrame({\n",
    "    'Team': league_members,\n",
    "    'Last Place': [lastPlace[lastPlace['Team'] == team]['Last Place'].values[0] if team in lastPlace['Team'].values else 0 for team in league_members]\n",
    "})\n",
    "\n",
    "# 10 teams\n",
    "meltLast = pd.melt(dfFinalStandings[dfFinalStandings['Year'].isin((2019, 2020, 2021, 2022, 2023))], id_vars=['Year'], value_vars=['10th'],\n",
    "                   var_name='Finish', value_name='Team')\n",
    "\n",
    "lastPlace = meltLast[meltLast['Finish'] == '10th']['Team'].value_counts().reset_index()\n",
    "lastPlace.columns = ['Team', 'Last Place']\n",
    "\n",
    "dfLast10 = pd.DataFrame({\n",
    "    'Team': league_members,\n",
    "    'Last Place': [lastPlace[lastPlace['Team'] == team]['Last Place'].values[0] if team in lastPlace['Team'].values else 0 for team in league_members]\n",
    "})\n",
    "\n",
    "dfLast = pd.merge(dfLast8, dfLast10, on='Team', how='outer').fillna(0)\n",
    "dfLast['Last Place'] = dfLast['Last Place_x'] + dfLast['Last Place_y']\n",
    "dfLast = dfLast.drop(['Last Place_x', 'Last Place_y'], axis=1)"
   ]
  },
  {
   "cell_type": "code",
   "execution_count": 96,
   "metadata": {
    "id": "KhDmdMindSdG"
   },
   "outputs": [],
   "source": [
    "### All Time Cards Summary ###\n",
    "dfPerformanceCards = pd.merge(finishSummary, dfPlayoffAppAllTime, on='Team', how='left') \\\n",
    "                          .merge(dfSeasonsPlayed, on='Team') \\\n",
    "                          .merge(allTimeRecords, on='Team') \\\n",
    "                          .merge(playoffRecords, on='Team') \\\n",
    "                          .merge(dfRegSeason, on='Team') \\\n",
    "                          .merge(dfLast, on='Team')"
   ]
  },
  {
   "cell_type": "markdown",
   "metadata": {
    "id": "-2NMbEWodfi2"
   },
   "source": [
    "## Step 3: Year by Year Trends\n",
    "\n",
    "I calculate statistics over time to view on a graph"
   ]
  },
  {
   "cell_type": "code",
   "execution_count": 97,
   "metadata": {
    "id": "IlYncpEjdvYz"
   },
   "outputs": [],
   "source": [
    "### Regular Season Standings YoY ###\n",
    "df_transformed = pd.melt(dfRegSeasonStandings, id_vars='Year', var_name='Reg. Finishing Position', value_name='Team')\n",
    "df_transformed = df_transformed[['Team', 'Year', 'Reg. Finishing Position']]\n",
    "df_transformed['Year'] = df_transformed['Year'].astype(int)\n",
    "df_transformed['Reg. Finishing Position'] = df_transformed['Reg. Finishing Position'].str.replace('[thndrst]', '', regex=True)\n",
    "df_transformed['Reg. Finishing Position'] = df_transformed['Reg. Finishing Position'].astype(int)\n",
    "# Sort by Year and Place\n",
    "dfYearbyYearRegStandings = df_transformed.sort_values(by=['Team', 'Year']).reset_index(drop=True)"
   ]
  },
  {
   "cell_type": "code",
   "execution_count": 98,
   "metadata": {
    "id": "NIcLhok_dxfG"
   },
   "outputs": [],
   "source": [
    "### Final Standings YoY ###\n",
    "df_transformed = pd.melt(dfFinalStandings, id_vars='Year', var_name='Finishing Position', value_name='Team')\n",
    "df_transformed = df_transformed[['Team', 'Year', 'Finishing Position']]\n",
    "df_transformed['Year'] = df_transformed['Year'].astype(int)\n",
    "df_transformed['Finishing Position'] = df_transformed['Finishing Position'].str.replace('[thndrst]', '', regex=True)\n",
    "df_transformed['Finishing Position'] = df_transformed['Finishing Position'].astype(int)\n",
    "# Sort by Year and Place\n",
    "dfYearbyYearFinalStandings = df_transformed.sort_values(by=['Team', 'Year']).reset_index(drop=True)"
   ]
  },
  {
   "cell_type": "code",
   "execution_count": 99,
   "metadata": {
    "id": "QS46yGGcd0TG"
   },
   "outputs": [],
   "source": [
    "### Points YoY ###\n",
    "dfPointsYearbyYear = dfTeamHistory[dfTeamHistory['Type'] != 'Playoff'].groupby(['Team', 'Year'])['Score'].sum().reset_index(name='Points').sort_values(by=['Team', 'Year'], ascending=[True, True])\n",
    "\n",
    "### PPG YoY ###\n",
    "dfPPGYearbyYear = dfTeamHistory[dfTeamHistory['Type'] != 'Playoff'].groupby(['Team', 'Year'])['Score'].mean().reset_index(name='PPG').sort_values(by=['Team', 'Year'], ascending=[True, True])\n",
    "\n",
    "### Score Margin YoY ###\n",
    "dfScoreMarginYearbyYear = dfTeamHistory[dfTeamHistory['Type'] != 'Playoff'].groupby(['Team', 'Year'])['Score_margin'].mean().reset_index(name='Score Margin').sort_values(by=['Team', 'Year'], ascending=[True, True])\n",
    "\n",
    "### Wins YoY ###\n",
    "dfWinsYearbyYear = dfTeamHistory[(dfTeamHistory['Outcome'] == 'Win') & (dfTeamHistory['Type'] != 'Playoff')].groupby(['Team', 'Year'])['Outcome'].count().reset_index(name='Wins').sort_values(by=['Team', 'Year'], ascending=[True, True])\n",
    "\n",
    "## Win Percentage YoY ###\n",
    "dfWinPctYearbyYear = dfTeamHistory[dfTeamHistory['Type'] != 'Playoff'].groupby(['Team', 'Year'])['Outcome'].apply(lambda x: (x == 'Win').mean() * 100).reset_index(name='Win %').sort_values(by=['Team', 'Year'], ascending=[True, True])"
   ]
  },
  {
   "cell_type": "code",
   "execution_count": 100,
   "metadata": {
    "id": "9rXiW58Pd3zh"
   },
   "outputs": [],
   "source": [
    "### YoY Summary ###\n",
    "dfYearbyYear = pd.merge(dfPointsYearbyYear, dfPPGYearbyYear, on=['Team', 'Year']) \\\n",
    "                  .merge(dfScoreMarginYearbyYear, on=['Team', 'Year']) \\\n",
    "                  .merge(dfWinsYearbyYear, on=['Team', 'Year']) \\\n",
    "                  .merge(dfWinPctYearbyYear, on=['Team', 'Year']) \\\n",
    "                  .merge(dfYearbyYearRegStandings, on=['Team', 'Year']) \\\n",
    "                  .merge(dfYearbyYearFinalStandings, on=['Team', 'Year'])"
   ]
  },
  {
   "cell_type": "code",
   "execution_count": 101,
   "metadata": {
    "id": "dl6GdUg7d5o6"
   },
   "outputs": [],
   "source": [
    "### YoY Averages (for dotted line on graph) ###\n",
    "dfPointsYearAvg = dfYearbyYear.sort_values(by='Year', ascending=True).groupby('Year')['Points'].mean().reset_index(name='Points')\n",
    "dfPPGYearAvg = dfYearbyYear.sort_values(by='Year', ascending=True).groupby('Year')['PPG'].mean().reset_index(name='PPG')\n",
    "dfWinsYearAvg = dfYearbyYear.sort_values(by='Year', ascending=True).groupby('Year')['Wins'].mean().reset_index(name='Wins')\n",
    "dfYearbyYearAvg = pd.merge(dfPointsYearAvg, dfPPGYearAvg, on='Year').merge(dfWinsYearAvg, on='Year')\n",
    "dfYearbyYearAvg['Score Margin'] = 0\n",
    "dfYearbyYearAvg['Win %'] = 50\n",
    "dfYearbyYearAvg['Reg. Finishing Position'] = 5\n",
    "dfYearbyYearAvg['Finishing Position'] = 5"
   ]
  },
  {
   "cell_type": "markdown",
   "metadata": {
    "id": "uJ8IKoJkeWzJ"
   },
   "source": [
    "## Step 4: Highlights\n",
    "\n",
    "Determing the best performances for each team"
   ]
  },
  {
   "cell_type": "code",
   "execution_count": 102,
   "metadata": {},
   "outputs": [],
   "source": [
    "# Function to add suffix\n",
    "def ordinal(n):\n",
    "    n = int(n)\n",
    "    if 10 <= n % 100 <= 20:\n",
    "        suffix = \"th\"\n",
    "    else:\n",
    "        suffix = {1: \"st\", 2: \"nd\", 3: \"rd\"}.get(n % 10, \"th\")\n",
    "    return f\"{n}{suffix}\""
   ]
  },
  {
   "cell_type": "code",
   "execution_count": 103,
   "metadata": {
    "id": "wSPqLWo7ee0y"
   },
   "outputs": [],
   "source": [
    "### Single Week Points (excluding playoffs) ###\n",
    "dfSingleWeekPointsRanked = dfTeamHistory[dfTeamHistory['Type'] != 'Playoff'][['Year', 'Week', 'Team', 'Score', 'Opponent']].sort_values(by=['Score'], ascending=[False])\n",
    "\n",
    "### Most Points Scored (in a week) ###\n",
    "dfSingleWeekPointsRanked['All Time Rank'] = dfSingleWeekPointsRanked['Score'].rank(ascending=False).astype(int)\n",
    "idx = dfSingleWeekPointsRanked.groupby('Team')['Score'].nlargest(3).index.get_level_values(1)\n",
    "dfMostSingleWeekPoints_by_team = dfSingleWeekPointsRanked.loc[idx]\n",
    "\n",
    "dfMostSingleWeekPoints = dfMostSingleWeekPoints_by_team\n",
    "\n",
    "dfMostSingleWeekPoints[\"All Time Rank\"] = dfMostSingleWeekPoints[\"All Time Rank\"].apply(ordinal)"
   ]
  },
  {
   "cell_type": "code",
   "execution_count": 104,
   "metadata": {
    "id": "lkD3WF12ep2X"
   },
   "outputs": [],
   "source": [
    "### Winning Margins ###\n",
    "dfWinningMarginRanked = dfTeamHistory[dfTeamHistory['Type'] != 'Playoff'][['Year', 'Week', 'Team', 'Opponent', 'Score_margin']].sort_values(by=['Score_margin'], ascending=[False])\n",
    "\n",
    "### Largest Wins ###\n",
    "dfWinningMarginRanked['All Time Rank'] = dfWinningMarginRanked['Score_margin'].rank(ascending=False).astype(int)\n",
    "idx = dfWinningMarginRanked.groupby('Team')['Score_margin'].nlargest(3).index.get_level_values(1)\n",
    "dfLargestWins_by_team = dfWinningMarginRanked.loc[idx]\n",
    "dfLargestWins_by_team['Score_margin'] = round(dfLargestWins_by_team['Score_margin'], 1)\n",
    "dfLargestWins_by_team.rename(columns={'Score_margin': 'Winning Margin'}, inplace=True)\n",
    "\n",
    "dfLargestWins = dfLargestWins_by_team\n",
    "\n",
    "dfLargestWins[\"All Time Rank\"] = dfLargestWins[\"All Time Rank\"].apply(ordinal)"
   ]
  },
  {
   "cell_type": "code",
   "execution_count": 105,
   "metadata": {
    "id": "Hesj9qpoe0vJ",
    "tags": []
   },
   "outputs": [],
   "source": [
    "### Best Seasons ###"
   ]
  },
  {
   "cell_type": "markdown",
   "metadata": {
    "id": "NILXeKvhe7YG"
   },
   "source": [
    "## Step 5: Lowlights\n",
    "\n",
    "Determing the worst performances for each team"
   ]
  },
  {
   "cell_type": "code",
   "execution_count": 106,
   "metadata": {
    "id": "X0HvkFt5e-w7"
   },
   "outputs": [],
   "source": [
    "### Least Points Scored (in a week) ###\n",
    "dfSingleWeekPointsRanked['All Time Rank'] = dfSingleWeekPointsRanked['Score'].rank(ascending=True).astype(int)\n",
    "idx = dfSingleWeekPointsRanked.groupby('Team')['Score'].nsmallest(3).index.get_level_values(1)\n",
    "dfLeastSingleWeekPoints_by_team = dfSingleWeekPointsRanked.loc[idx]\n",
    "\n",
    "dfLeastSingleWeekPoints = dfLeastSingleWeekPoints_by_team\n",
    "\n",
    "dfLeastSingleWeekPoints[\"All Time Rank\"] = dfLeastSingleWeekPoints[\"All Time Rank\"].apply(ordinal)"
   ]
  },
  {
   "cell_type": "code",
   "execution_count": 107,
   "metadata": {
    "id": "G4m9rmNlfCkD"
   },
   "outputs": [],
   "source": [
    "### Worst Losses ###\n",
    "dfWinningMarginRanked['All Time Rank'] = dfWinningMarginRanked['Score_margin'].rank(ascending=True).astype(int)\n",
    "idx = dfWinningMarginRanked.groupby('Team')['Score_margin'].nsmallest(3).index.get_level_values(1)\n",
    "dfWorstLosses_by_team = dfWinningMarginRanked.loc[idx]\n",
    "dfWorstLosses_by_team['Score_margin'] = round(dfWorstLosses_by_team['Score_margin'] * -1, 1)\n",
    "dfWorstLosses_by_team.rename(columns={'Score_margin': 'Losing Margin'}, inplace=True)\n",
    "\n",
    "dfWorstLosses = dfWorstLosses_by_team\n",
    "\n",
    "dfWorstLosses[\"All Time Rank\"] = dfWorstLosses[\"All Time Rank\"].apply(ordinal)"
   ]
  },
  {
   "cell_type": "code",
   "execution_count": 108,
   "metadata": {
    "id": "4NfRGKXQfEQl"
   },
   "outputs": [],
   "source": [
    "### Worst Seasons ###"
   ]
  },
  {
   "cell_type": "markdown",
   "metadata": {
    "id": "PsPxYYbvfRLV"
   },
   "source": [
    "## Step 6: Opponents"
   ]
  },
  {
   "cell_type": "code",
   "execution_count": 109,
   "metadata": {
    "id": "nvyNm2cDfZED"
   },
   "outputs": [],
   "source": [
    "## Read in h2h summary\n",
    "dfH2HFinal = pd.read_csv('headtoheadsummary.csv')"
   ]
  },
  {
   "cell_type": "code",
   "execution_count": 110,
   "metadata": {
    "id": "VJW5vRMnfYRq"
   },
   "outputs": [],
   "source": [
    "### Opponents ###\n",
    "Opponents = {\n",
    "    'Team': [],\n",
    "    'Opponent': [],\n",
    "    'PointsFor': [],\n",
    "    'PointsAgainst': [],\n",
    "    'Win %': [],\n",
    "    'TotalMatchups': []\n",
    "}\n",
    "dfOpponents = pd.DataFrame(Opponents)\n",
    "\n",
    "## Build loop to iterate through all H2H\n",
    "for team in league_members:\n",
    "\n",
    "  df = dfH2HFinal[((dfH2HFinal['Team 1'] == team) | (dfH2HFinal['Team 2'] == team))]\n",
    "\n",
    "  ## Iterate through each matchup\n",
    "  for index, row in df.iterrows():\n",
    "\n",
    "    # Forcing current team to be 'Team 1'\n",
    "    if row['Team 1'] != team:\n",
    "        # Swap team and score columns for the current row\n",
    "        df.loc[index, ['Team 1', 'Team 2']] = row[['Team 2', 'Team 1']].values\n",
    "        df.loc[index, ['Team 1 Points', 'Team 2 Points']] = row[['Team 2 Points', 'Team 1 Points']].values #swap points if necessary\n",
    "        df.loc[index, ['Team 1 Win %', 'Team 2 Win %']] = row[['Team 2 Win %', 'Team 1 Win %']].values #swap win% if necessary\n",
    "\n",
    "  dfRaw = df[['Team 1', 'Team 2', 'Team 1 Points', 'Team 2 Points', 'Team 1 Win %', 'Total Matchups']].sort_values(by='Team 1 Win %', ascending=False)\n",
    "  dfRaw.columns = ['Team', 'Opponent', 'PointsFor', 'PointsAgainst', 'Win %', 'TotalMatchups']\n",
    "\n",
    "  dfOpponents = pd.concat([dfOpponents, dfRaw])"
   ]
  },
  {
   "cell_type": "markdown",
   "metadata": {},
   "source": [
    "## Step 7: Write Out"
   ]
  },
  {
   "cell_type": "code",
   "execution_count": 111,
   "metadata": {},
   "outputs": [],
   "source": [
    "## Change directory\n",
    "os.chdir(r'C:\\Users\\hurst\\OneDrive\\Desktop\\league-of-morons-reference\\Dashboards\\TeamPerformance')"
   ]
  },
  {
   "cell_type": "code",
   "execution_count": 112,
   "metadata": {},
   "outputs": [],
   "source": [
    "## League Stats\n",
    "dfLeagueStats.to_csv('tpdash_alltimestats.csv', index=False)\n",
    "\n",
    "## All Time Cards\n",
    "dfPerformanceCards.to_csv('tpdash_alltimecards.csv', index=False)\n",
    "\n",
    "## Year by Year Trends\n",
    "dfYearbyYear.to_csv('tpdash_yearlystats.csv', index=False)\n",
    "dfYearbyYearAvg.to_csv('tpdash_yearlyavgstats.csv', index=False)\n",
    "\n",
    "## Highlights\n",
    "dfMostSingleWeekPoints.to_csv('tpdash_bestweeks.csv', index=False)\n",
    "dfLargestWins.to_csv('tpdash_bestwins.csv', index=False)\n",
    "\n",
    "## Lowlights\n",
    "dfLeastSingleWeekPoints.to_csv('tpdash_worstweeks.csv', index=False)\n",
    "dfWorstLosses.to_csv('tpdash_worstlosses.csv', index=False)\n",
    "\n",
    "## Opponents\n",
    "dfOpponents.to_csv('tpdash_opponents.csv', index=False)"
   ]
  }
 ],
 "metadata": {
  "colab": {
   "provenance": [],
   "toc_visible": true
  },
  "kernelspec": {
   "display_name": "Python 3 (ipykernel)",
   "language": "python",
   "name": "python3"
  },
  "language_info": {
   "codemirror_mode": {
    "name": "ipython",
    "version": 3
   },
   "file_extension": ".py",
   "mimetype": "text/x-python",
   "name": "python",
   "nbconvert_exporter": "python",
   "pygments_lexer": "ipython3",
   "version": "3.9.13"
  }
 },
 "nbformat": 4,
 "nbformat_minor": 4
}
